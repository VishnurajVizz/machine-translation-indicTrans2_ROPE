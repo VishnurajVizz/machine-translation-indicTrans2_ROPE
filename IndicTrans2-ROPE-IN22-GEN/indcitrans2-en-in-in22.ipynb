{
 "cells": [
  {
   "cell_type": "markdown",
   "metadata": {},
   "source": [
    "# This Notebook uses Rotary indicTrans2 1B model for Machine Translation from English to Indian Languages. Inferenced on IN22-Gen dataset"
   ]
  },
  {
   "cell_type": "code",
   "execution_count": 1,
   "metadata": {
    "execution": {
     "iopub.execute_input": "2025-08-30T10:34:14.909244Z",
     "iopub.status.busy": "2025-08-30T10:34:14.908922Z",
     "iopub.status.idle": "2025-08-30T10:34:15.352009Z",
     "shell.execute_reply": "2025-08-30T10:34:15.351125Z",
     "shell.execute_reply.started": "2025-08-30T10:34:14.909220Z"
    },
    "trusted": true
   },
   "outputs": [
    {
     "data": {
      "application/vnd.jupyter.widget-view+json": {
       "model_id": "27d88757c3ff4191b8e2295bed1fada1",
       "version_major": 2,
       "version_minor": 0
      },
      "text/plain": [
       "VBox(children=(HTML(value='<center> <img\\nsrc=https://huggingface.co/front/assets/huggingface_logo-noborder.sv…"
      ]
     },
     "metadata": {},
     "output_type": "display_data"
    }
   ],
   "source": [
    "from huggingface_hub import notebook_login\n",
    "notebook_login()"
   ]
  },
  {
   "cell_type": "code",
   "execution_count": null,
   "metadata": {
    "trusted": true
   },
   "outputs": [],
   "source": [
    "!pip install IndicTransToolkit"
   ]
  },
  {
   "cell_type": "code",
   "execution_count": null,
   "metadata": {
    "trusted": true
   },
   "outputs": [],
   "source": [
    "!pip install evaluate sacrebleu"
   ]
  },
  {
   "cell_type": "code",
   "execution_count": 3,
   "metadata": {
    "execution": {
     "iopub.execute_input": "2025-08-29T04:52:04.451399Z",
     "iopub.status.busy": "2025-08-29T04:52:04.451146Z",
     "iopub.status.idle": "2025-08-29T04:52:04.680910Z",
     "shell.execute_reply": "2025-08-29T04:52:04.680127Z",
     "shell.execute_reply.started": "2025-08-29T04:52:04.451373Z"
    },
    "trusted": true
   },
   "outputs": [
    {
     "name": "stdout",
     "output_type": "stream",
     "text": [
      "Fri Aug 29 04:52:04 2025       \n",
      "+-----------------------------------------------------------------------------------------+\n",
      "| NVIDIA-SMI 560.35.03              Driver Version: 560.35.03      CUDA Version: 12.6     |\n",
      "|-----------------------------------------+------------------------+----------------------+\n",
      "| GPU  Name                 Persistence-M | Bus-Id          Disp.A | Volatile Uncorr. ECC |\n",
      "| Fan  Temp   Perf          Pwr:Usage/Cap |           Memory-Usage | GPU-Util  Compute M. |\n",
      "|                                         |                        |               MIG M. |\n",
      "|=========================================+========================+======================|\n",
      "|   0  Tesla T4                       Off |   00000000:00:04.0 Off |                    0 |\n",
      "| N/A   63C    P8             11W /   70W |       1MiB /  15360MiB |      0%      Default |\n",
      "|                                         |                        |                  N/A |\n",
      "+-----------------------------------------+------------------------+----------------------+\n",
      "|   1  Tesla T4                       Off |   00000000:00:05.0 Off |                    0 |\n",
      "| N/A   38C    P8             10W /   70W |       1MiB /  15360MiB |      0%      Default |\n",
      "|                                         |                        |                  N/A |\n",
      "+-----------------------------------------+------------------------+----------------------+\n",
      "                                                                                         \n",
      "+-----------------------------------------------------------------------------------------+\n",
      "| Processes:                                                                              |\n",
      "|  GPU   GI   CI        PID   Type   Process name                              GPU Memory |\n",
      "|        ID   ID                                                               Usage      |\n",
      "|=========================================================================================|\n",
      "|  No running processes found                                                             |\n",
      "+-----------------------------------------------------------------------------------------+\n"
     ]
    }
   ],
   "source": [
    "!nvidia-smi"
   ]
  },
  {
   "cell_type": "code",
   "execution_count": null,
   "metadata": {
    "execution": {
     "iopub.execute_input": "2025-08-30T10:34:46.605746Z",
     "iopub.status.busy": "2025-08-30T10:34:46.605431Z",
     "iopub.status.idle": "2025-08-30T10:35:20.359343Z",
     "shell.execute_reply": "2025-08-30T10:35:20.358412Z",
     "shell.execute_reply.started": "2025-08-30T10:34:46.605720Z"
    },
    "trusted": true
   },
   "outputs": [
    {
     "name": "stderr",
     "output_type": "stream",
     "text": [
      "2025-08-30 10:35:02.002681: E external/local_xla/xla/stream_executor/cuda/cuda_fft.cc:477] Unable to register cuFFT factory: Attempting to register factory for plugin cuFFT when one has already been registered\n",
      "WARNING: All log messages before absl::InitializeLog() is called are written to STDERR\n",
      "E0000 00:00:1756550102.270885      37 cuda_dnn.cc:8310] Unable to register cuDNN factory: Attempting to register factory for plugin cuDNN when one has already been registered\n",
      "E0000 00:00:1756550102.346346      37 cuda_blas.cc:1418] Unable to register cuBLAS factory: Attempting to register factory for plugin cuBLAS when one has already been registered\n"
     ]
    }
   ],
   "source": [
    "import torch\n",
    "import warnings\n",
    "import json\n",
    "from IndicTransToolkit.processor import IndicProcessor\n",
    "from transformers import AutoTokenizer, AutoModelForSeq2SeqLM\n",
    "from datasets import load_dataset\n",
    "import seaborn as sns\n",
    "import matplotlib.pyplot as plt\n",
    "import numpy as np\n",
    "import evaluate"
   ]
  },
  {
   "cell_type": "code",
   "execution_count": 4,
   "metadata": {
    "execution": {
     "iopub.execute_input": "2025-08-30T10:35:20.361996Z",
     "iopub.status.busy": "2025-08-30T10:35:20.360910Z",
     "iopub.status.idle": "2025-08-30T10:35:20.366609Z",
     "shell.execute_reply": "2025-08-30T10:35:20.365764Z",
     "shell.execute_reply.started": "2025-08-30T10:35:20.361968Z"
    },
    "trusted": true
   },
   "outputs": [],
   "source": [
    "# data for kas_Deva, mni_Beng,snd_Arab  not in IN22-Gen\n",
    "# has an issue with inference for kas_Deva, mni_Beng\n",
    "# In_langs = ['asm_Beng','ben_Beng','brx_Deva','doi_Deva','eng_Latn','gom_Deva','guj_Gujr','hin_Deva','kan_Knda','kas_Arab','kas_Deva','mai_Deva','mal_Mlym','mar_Deva','mni_Beng','mni_Mtei','npi_Deva','ory_Orya','pan_Guru','san_Deva','sat_Olck','snd_Arab','snd_Deva','tam_Taml','tel_Telu','urd_Arab']\n",
    "In_langs = ['asm_Beng','ben_Beng','brx_Deva','doi_Deva','eng_Latn','gom_Deva','guj_Gujr','hin_Deva','kan_Knda','kas_Arab','mai_Deva','mal_Mlym','mar_Deva','mni_Mtei','npi_Deva','ory_Orya','pan_Guru','san_Deva','sat_Olck','snd_Arab','snd_Deva','tam_Taml','tel_Telu','urd_Arab']"
   ]
  },
  {
   "cell_type": "code",
   "execution_count": 5,
   "metadata": {
    "execution": {
     "iopub.execute_input": "2025-08-30T10:35:20.367767Z",
     "iopub.status.busy": "2025-08-30T10:35:20.367558Z",
     "iopub.status.idle": "2025-08-30T10:35:22.669563Z",
     "shell.execute_reply": "2025-08-30T10:35:22.668771Z",
     "shell.execute_reply.started": "2025-08-30T10:35:20.367749Z"
    },
    "trusted": true
   },
   "outputs": [
    {
     "data": {
      "application/vnd.jupyter.widget-view+json": {
       "model_id": "70242d7eaa164679a084c5a26f657b20",
       "version_major": 2,
       "version_minor": 0
      },
      "text/plain": [
       "README.md:   0%|          | 0.00/7.71k [00:00<?, ?B/s]"
      ]
     },
     "metadata": {},
     "output_type": "display_data"
    },
    {
     "data": {
      "application/vnd.jupyter.widget-view+json": {
       "model_id": "eaef843f654e43b2a9e3acb29b84f807",
       "version_major": 2,
       "version_minor": 0
      },
      "text/plain": [
       "data/train-00000-of-00001.parquet:   0%|          | 0.00/4.34M [00:00<?, ?B/s]"
      ]
     },
     "metadata": {},
     "output_type": "display_data"
    },
    {
     "data": {
      "application/vnd.jupyter.widget-view+json": {
       "model_id": "9e836ebb22524c12a845c850415d3be4",
       "version_major": 2,
       "version_minor": 0
      },
      "text/plain": [
       "Generating test split:   0%|          | 0/1024 [00:00<?, ? examples/s]"
      ]
     },
     "metadata": {},
     "output_type": "display_data"
    }
   ],
   "source": [
    "ds  = load_dataset(\"ai4bharat/IN22-Gen\")"
   ]
  },
  {
   "cell_type": "code",
   "execution_count": 6,
   "metadata": {
    "execution": {
     "iopub.execute_input": "2025-08-30T10:35:22.671722Z",
     "iopub.status.busy": "2025-08-30T10:35:22.671415Z",
     "iopub.status.idle": "2025-08-30T10:35:22.675724Z",
     "shell.execute_reply": "2025-08-30T10:35:22.674874Z",
     "shell.execute_reply.started": "2025-08-30T10:35:22.671700Z"
    },
    "trusted": true
   },
   "outputs": [],
   "source": [
    "ds = ds['test']"
   ]
  },
  {
   "cell_type": "code",
   "execution_count": 7,
   "metadata": {
    "execution": {
     "iopub.execute_input": "2025-08-30T10:35:22.677365Z",
     "iopub.status.busy": "2025-08-30T10:35:22.676682Z",
     "iopub.status.idle": "2025-08-30T10:35:22.885973Z",
     "shell.execute_reply": "2025-08-30T10:35:22.884859Z",
     "shell.execute_reply.started": "2025-08-30T10:35:22.677335Z"
    },
    "trusted": true
   },
   "outputs": [
    {
     "data": {
      "text/plain": [
       "['An appearance is a bunch of attributes related to the service person, like their shoes, clothes, tie, jewellery, hairstyle, make-up, watch, cosmetics, perfume, etc.',\n",
       " 'Ajanta, located in the Aurangabad District of Maharashtra has twenty-nine caitya and vihara caves decorated with sculptures and paintings from the first century B.C.E. to the fifth century C.E.',\n",
       " 'Body colour gets merged with the outer line, creating the effect of volume.',\n",
       " 'Ashoka started making extensive use of stone for sculptures and great monuments, whereas the previous tradition consisted of working with wood and clay.',\n",
       " 'Potatoes mixed in masalas, coated in besan batter and deep fried to perfection form this delicious and famous dish of Maharashtra.']"
      ]
     },
     "execution_count": 7,
     "metadata": {},
     "output_type": "execute_result"
    }
   ],
   "source": [
    "ds['eng_Latn'][:5]"
   ]
  },
  {
   "cell_type": "markdown",
   "metadata": {},
   "source": [
    "## Loading model for English to Indian language translation"
   ]
  },
  {
   "cell_type": "code",
   "execution_count": 9,
   "metadata": {
    "execution": {
     "iopub.execute_input": "2025-08-29T04:53:09.238470Z",
     "iopub.status.busy": "2025-08-29T04:53:09.238163Z",
     "iopub.status.idle": "2025-08-29T04:53:09.300480Z",
     "shell.execute_reply": "2025-08-29T04:53:09.299595Z",
     "shell.execute_reply.started": "2025-08-29T04:53:09.238449Z"
    },
    "trusted": true
   },
   "outputs": [],
   "source": [
    "warnings.filterwarnings(\"ignore\")\n",
    "model_name = \"prajdabre/rotary-indictrans2-en-indic-1B\"\n",
    "device = \"cuda\" if torch.cuda.is_available() else \"cpu\""
   ]
  },
  {
   "cell_type": "code",
   "execution_count": 10,
   "metadata": {
    "execution": {
     "iopub.execute_input": "2025-08-29T04:53:10.424268Z",
     "iopub.status.busy": "2025-08-29T04:53:10.423966Z",
     "iopub.status.idle": "2025-08-29T04:53:12.106006Z",
     "shell.execute_reply": "2025-08-29T04:53:12.105353Z",
     "shell.execute_reply.started": "2025-08-29T04:53:10.424245Z"
    },
    "trusted": true
   },
   "outputs": [
    {
     "data": {
      "application/vnd.jupyter.widget-view+json": {
       "model_id": "3c1561695c3f4eec8f2929209f7f4064",
       "version_major": 2,
       "version_minor": 0
      },
      "text/plain": [
       "tokenizer_config.json: 0.00B [00:00, ?B/s]"
      ]
     },
     "metadata": {},
     "output_type": "display_data"
    },
    {
     "data": {
      "application/vnd.jupyter.widget-view+json": {
       "model_id": "51eb89f4fb7c4eb7adf589ab2a7aaef9",
       "version_major": 2,
       "version_minor": 0
      },
      "text/plain": [
       "tokenization_indictrans.py: 0.00B [00:00, ?B/s]"
      ]
     },
     "metadata": {},
     "output_type": "display_data"
    },
    {
     "name": "stderr",
     "output_type": "stream",
     "text": [
      "A new version of the following files was downloaded from https://huggingface.co/prajdabre/rotary-indictrans2-en-indic-1B:\n",
      "- tokenization_indictrans.py\n",
      ". Make sure to double-check they do not contain any added malicious code. To avoid downloading new versions of the code file, you can pin a revision.\n"
     ]
    },
    {
     "data": {
      "application/vnd.jupyter.widget-view+json": {
       "model_id": "ed8b870168c44e419248cbe56f610eeb",
       "version_major": 2,
       "version_minor": 0
      },
      "text/plain": [
       "dict.SRC.json: 0.00B [00:00, ?B/s]"
      ]
     },
     "metadata": {},
     "output_type": "display_data"
    },
    {
     "data": {
      "application/vnd.jupyter.widget-view+json": {
       "model_id": "a085258ab0a94bf2aeafa998a1ea4eeb",
       "version_major": 2,
       "version_minor": 0
      },
      "text/plain": [
       "dict.TGT.json: 0.00B [00:00, ?B/s]"
      ]
     },
     "metadata": {},
     "output_type": "display_data"
    },
    {
     "data": {
      "application/vnd.jupyter.widget-view+json": {
       "model_id": "455f08abebbf455aa280400be3f44108",
       "version_major": 2,
       "version_minor": 0
      },
      "text/plain": [
       "model.SRC:   0%|          | 0.00/759k [00:00<?, ?B/s]"
      ]
     },
     "metadata": {},
     "output_type": "display_data"
    },
    {
     "data": {
      "application/vnd.jupyter.widget-view+json": {
       "model_id": "bd14aebd72cb4101aef667b64be274c9",
       "version_major": 2,
       "version_minor": 0
      },
      "text/plain": [
       "model.TGT:   0%|          | 0.00/3.26M [00:00<?, ?B/s]"
      ]
     },
     "metadata": {},
     "output_type": "display_data"
    },
    {
     "data": {
      "application/vnd.jupyter.widget-view+json": {
       "model_id": "7d1d90a7aa634b17a9c257c8c564e457",
       "version_major": 2,
       "version_minor": 0
      },
      "text/plain": [
       "special_tokens_map.json:   0%|          | 0.00/96.0 [00:00<?, ?B/s]"
      ]
     },
     "metadata": {},
     "output_type": "display_data"
    }
   ],
   "source": [
    "ip = IndicProcessor(inference=True)\n",
    "tokenizer = AutoTokenizer.from_pretrained(model_name, trust_remote_code=True)"
   ]
  },
  {
   "cell_type": "code",
   "execution_count": 11,
   "metadata": {
    "execution": {
     "iopub.execute_input": "2025-08-29T04:53:12.152964Z",
     "iopub.status.busy": "2025-08-29T04:53:12.152736Z",
     "iopub.status.idle": "2025-08-29T04:53:58.312715Z",
     "shell.execute_reply": "2025-08-29T04:53:58.310056Z",
     "shell.execute_reply.started": "2025-08-29T04:53:12.152947Z"
    },
    "trusted": true
   },
   "outputs": [
    {
     "data": {
      "application/vnd.jupyter.widget-view+json": {
       "model_id": "fcaf9e403f2640c4b22491bb27ced4c2",
       "version_major": 2,
       "version_minor": 0
      },
      "text/plain": [
       "config.json: 0.00B [00:00, ?B/s]"
      ]
     },
     "metadata": {},
     "output_type": "display_data"
    },
    {
     "data": {
      "application/vnd.jupyter.widget-view+json": {
       "model_id": "a275c55075404af29bd80ea7f950a130",
       "version_major": 2,
       "version_minor": 0
      },
      "text/plain": [
       "configuration_rotary_indictrans.py: 0.00B [00:00, ?B/s]"
      ]
     },
     "metadata": {},
     "output_type": "display_data"
    },
    {
     "name": "stderr",
     "output_type": "stream",
     "text": [
      "A new version of the following files was downloaded from https://huggingface.co/prajdabre/rotary-indictrans2-en-indic-1B:\n",
      "- configuration_rotary_indictrans.py\n",
      ". Make sure to double-check they do not contain any added malicious code. To avoid downloading new versions of the code file, you can pin a revision.\n"
     ]
    },
    {
     "data": {
      "application/vnd.jupyter.widget-view+json": {
       "model_id": "b20fac0e41644757ae6d177fef4df364",
       "version_major": 2,
       "version_minor": 0
      },
      "text/plain": [
       "modeling_rotary_indictrans.py: 0.00B [00:00, ?B/s]"
      ]
     },
     "metadata": {},
     "output_type": "display_data"
    },
    {
     "name": "stderr",
     "output_type": "stream",
     "text": [
      "A new version of the following files was downloaded from https://huggingface.co/prajdabre/rotary-indictrans2-en-indic-1B:\n",
      "- modeling_rotary_indictrans.py\n",
      ". Make sure to double-check they do not contain any added malicious code. To avoid downloading new versions of the code file, you can pin a revision.\n"
     ]
    },
    {
     "data": {
      "application/vnd.jupyter.widget-view+json": {
       "model_id": "61e952fd57ae4c408b2524c2d2b0c7d7",
       "version_major": 2,
       "version_minor": 0
      },
      "text/plain": [
       "pytorch_model.bin:   0%|          | 0.00/4.46G [00:00<?, ?B/s]"
      ]
     },
     "metadata": {},
     "output_type": "display_data"
    },
    {
     "data": {
      "application/vnd.jupyter.widget-view+json": {
       "model_id": "8798dc377ff24369934752f570854111",
       "version_major": 2,
       "version_minor": 0
      },
      "text/plain": [
       "model.safetensors:   0%|          | 0.00/4.46G [00:00<?, ?B/s]"
      ]
     },
     "metadata": {},
     "output_type": "display_data"
    },
    {
     "data": {
      "application/vnd.jupyter.widget-view+json": {
       "model_id": "57a97e07110d4e968443557c50eff3be",
       "version_major": 2,
       "version_minor": 0
      },
      "text/plain": [
       "generation_config.json:   0%|          | 0.00/163 [00:00<?, ?B/s]"
      ]
     },
     "metadata": {},
     "output_type": "display_data"
    }
   ],
   "source": [
    "model = AutoModelForSeq2SeqLM.from_pretrained(\n",
    "    model_name,\n",
    "    torch_dtype=torch.float16,\n",
    "    trust_remote_code=True,\n",
    ").to(device)"
   ]
  },
  {
   "cell_type": "code",
   "execution_count": 12,
   "metadata": {
    "execution": {
     "iopub.execute_input": "2025-08-29T04:53:58.320042Z",
     "iopub.status.busy": "2025-08-29T04:53:58.319149Z",
     "iopub.status.idle": "2025-08-29T04:53:58.332173Z",
     "shell.execute_reply": "2025-08-29T04:53:58.330682Z",
     "shell.execute_reply.started": "2025-08-29T04:53:58.320002Z"
    },
    "trusted": true
   },
   "outputs": [],
   "source": [
    "translations = {}"
   ]
  },
  {
   "cell_type": "code",
   "execution_count": 13,
   "metadata": {
    "execution": {
     "iopub.execute_input": "2025-08-29T04:53:58.333694Z",
     "iopub.status.busy": "2025-08-29T04:53:58.333257Z",
     "iopub.status.idle": "2025-08-29T04:53:59.355518Z",
     "shell.execute_reply": "2025-08-29T04:53:59.354139Z",
     "shell.execute_reply.started": "2025-08-29T04:53:58.333649Z"
    },
    "trusted": true
   },
   "outputs": [],
   "source": [
    "batch_size = 10"
   ]
  },
  {
   "cell_type": "code",
   "execution_count": 14,
   "metadata": {
    "execution": {
     "iopub.execute_input": "2025-08-29T04:53:59.358172Z",
     "iopub.status.busy": "2025-08-29T04:53:59.357809Z",
     "iopub.status.idle": "2025-08-29T04:54:00.276762Z",
     "shell.execute_reply": "2025-08-29T04:54:00.275694Z",
     "shell.execute_reply.started": "2025-08-29T04:53:59.358125Z"
    },
    "trusted": true
   },
   "outputs": [],
   "source": [
    "def translate(sentences,src_lang, tgt_lang):\n",
    "    translations[f\"{src_lang}-{tgt_lang}\"] = []\n",
    "    with torch.inference_mode():\n",
    "        for i in range(0, len(sentences),batch_size):\n",
    "            batch = ip.preprocess_batch(sentences[i:i+batch_size], src_lang, tgt_lang)\n",
    "            batch = tokenizer(batch, padding=\"longest\", truncation=True, max_length=2048, return_tensors=\"pt\").to(device)\n",
    "            outputs = model.generate(\n",
    "                **batch,\n",
    "                num_beams=8,\n",
    "                length_penalty=1.5,\n",
    "                repetition_penalty=2.0,\n",
    "                num_return_sequences=1,\n",
    "                max_new_tokens=2048,\n",
    "                early_stopping=True\n",
    "            )\n",
    "\n",
    "            outputs = tokenizer.batch_decode(\n",
    "                outputs, skip_special_tokens=True, clean_up_tokenization_spaces=True\n",
    "            )\n",
    "            outputs = ip.postprocess_batch(outputs, lang = tgt_lang)\n",
    "            print(f\"Translations from {src_lang} to {tgt_lang}: Btach - {i/batch_size}\")\n",
    "            translations[f\"{src_lang}-{tgt_lang}\"] += outputs\n",
    "            del batch, outputs\n",
    "            torch.cuda.empty_cache()"
   ]
  },
  {
   "cell_type": "markdown",
   "metadata": {},
   "source": [
    "## Inferencing and Saving the output to a json file"
   ]
  },
  {
   "cell_type": "code",
   "execution_count": null,
   "metadata": {
    "trusted": true
   },
   "outputs": [],
   "source": [
    "src_Lang = 'eng_Latn'\n",
    "for lang in In_langs:\n",
    "    translate(sentences = ds[src_Lang],src_lang = src_Lang, tgt_lang = lang)\n",
    "    try:\n",
    "        with open(\"translations_en-in.json\", \"w\", encoding=\"utf-8\") as f:\n",
    "            json.dump(translations, f, indent=4, ensure_ascii=False)\n",
    "        print(f\"File saved as of {lang}\")\n",
    "    except IOError as e:\n",
    "        print(f\"Error saving file: {e}\")\n",
    "            "
   ]
  },
  {
   "cell_type": "code",
   "execution_count": 16,
   "metadata": {
    "execution": {
     "iopub.execute_input": "2025-08-29T04:54:44.888138Z",
     "iopub.status.busy": "2025-08-29T04:54:44.887841Z",
     "iopub.status.idle": "2025-08-29T04:54:44.893664Z",
     "shell.execute_reply": "2025-08-29T04:54:44.892805Z",
     "shell.execute_reply.started": "2025-08-29T04:54:44.888115Z"
    },
    "trusted": true
   },
   "outputs": [
    {
     "data": {
      "text/plain": [
       "dict_keys(['eng_Latn-asm_Beng'])"
      ]
     },
     "execution_count": 16,
     "metadata": {},
     "output_type": "execute_result"
    }
   ],
   "source": [
    "translations.keys()"
   ]
  },
  {
   "cell_type": "markdown",
   "metadata": {},
   "source": [
    "## Loading the saved translations"
   ]
  },
  {
   "cell_type": "code",
   "execution_count": 8,
   "metadata": {
    "execution": {
     "iopub.execute_input": "2025-08-30T10:36:39.585112Z",
     "iopub.status.busy": "2025-08-30T10:36:39.584753Z",
     "iopub.status.idle": "2025-08-30T10:36:39.783833Z",
     "shell.execute_reply": "2025-08-30T10:36:39.782727Z",
     "shell.execute_reply.started": "2025-08-30T10:36:39.585084Z"
    },
    "trusted": true
   },
   "outputs": [],
   "source": [
    "with open('/kaggle/input/translations-en-in/translations_en-in.json','r',encoding='utf-8') as f:\n",
    "    translations = json.load(f)"
   ]
  },
  {
   "cell_type": "code",
   "execution_count": 10,
   "metadata": {
    "execution": {
     "iopub.execute_input": "2025-08-30T10:37:00.815427Z",
     "iopub.status.busy": "2025-08-30T10:37:00.815110Z",
     "iopub.status.idle": "2025-08-30T10:37:00.821389Z",
     "shell.execute_reply": "2025-08-30T10:37:00.820542Z",
     "shell.execute_reply.started": "2025-08-30T10:37:00.815407Z"
    },
    "trusted": true
   },
   "outputs": [
    {
     "data": {
      "text/plain": [
       "dict_keys(['eng_Latn-asm_Beng', 'eng_Latn-ben_Beng', 'eng_Latn-brx_Deva', 'eng_Latn-doi_Deva', 'eng_Latn-eng_Latn', 'eng_Latn-gom_Deva', 'eng_Latn-guj_Gujr', 'eng_Latn-hin_Deva', 'eng_Latn-kan_Knda', 'eng_Latn-kas_Arab', 'eng_Latn-mai_Deva', 'eng_Latn-mal_Mlym', 'eng_Latn-mar_Deva', 'eng_Latn-mni_Mtei', 'eng_Latn-npi_Deva', 'eng_Latn-ory_Orya', 'eng_Latn-pan_Guru', 'eng_Latn-san_Deva', 'eng_Latn-sat_Olck', 'eng_Latn-snd_Arab', 'eng_Latn-snd_Deva', 'eng_Latn-tam_Taml', 'eng_Latn-tel_Telu', 'eng_Latn-urd_Arab'])"
      ]
     },
     "execution_count": 10,
     "metadata": {},
     "output_type": "execute_result"
    }
   ],
   "source": [
    "translations.keys()"
   ]
  },
  {
   "cell_type": "code",
   "execution_count": 13,
   "metadata": {
    "execution": {
     "iopub.execute_input": "2025-08-30T10:37:54.543242Z",
     "iopub.status.busy": "2025-08-30T10:37:54.542377Z",
     "iopub.status.idle": "2025-08-30T10:37:54.554034Z",
     "shell.execute_reply": "2025-08-30T10:37:54.553198Z",
     "shell.execute_reply.started": "2025-08-30T10:37:54.543207Z"
    },
    "trusted": true
   },
   "outputs": [
    {
     "name": "stdout",
     "output_type": "stream",
     "text": [
      "தோற்றம் என்பது சேவை செய்பவரின் காலணிகள், உடைகள், டை, நகைகள், சிகை அலங்காரம், ஒப்பனை, கடிகாரம், அழகுசாதனப் பொருட்கள், வாசனை திரவியங்கள் போன்றவற்றுடன் தொடர்புடைய பண்புகளின் தொகுப்பாகும்.\n"
     ]
    },
    {
     "data": {
      "text/plain": [
       "'தோற்றம் என்பது சேவை ஊழியரின் காலணிகள், உடை, டை, நகை, சிகையலங்காரம், மேக்-அப், கைக்கடிகாரம், அழகு சாதனங்கள், நறுமணம் போன்ற அவர் சார்ந்த பண்புகளின் ஒரு தொகுப்பைக் குறிக்கிறது.'"
      ]
     },
     "execution_count": 13,
     "metadata": {},
     "output_type": "execute_result"
    }
   ],
   "source": [
    "print(translations['eng_Latn-tam_Taml'][0])\n",
    "ds['tam_Taml'][0]"
   ]
  },
  {
   "cell_type": "markdown",
   "metadata": {},
   "source": [
    "## Evaluating the Translations"
   ]
  },
  {
   "cell_type": "code",
   "execution_count": 21,
   "metadata": {
    "execution": {
     "iopub.execute_input": "2025-08-30T10:41:12.024794Z",
     "iopub.status.busy": "2025-08-30T10:41:12.024468Z",
     "iopub.status.idle": "2025-08-30T10:41:12.030073Z",
     "shell.execute_reply": "2025-08-30T10:41:12.029037Z",
     "shell.execute_reply.started": "2025-08-30T10:41:12.024772Z"
    },
    "trusted": true
   },
   "outputs": [],
   "source": [
    "avl_langs = ['asm_Beng','ben_Beng','brx_Deva','doi_Deva','eng_Latn','gom_Deva','guj_Gujr','hin_Deva','kan_Knda','kas_Arab','mai_Deva','mal_Mlym','mar_Deva','mni_Mtei','npi_Deva','ory_Orya','pan_Guru','san_Deva','sat_Olck','snd_Deva','tam_Taml','tel_Telu','urd_Arab']"
   ]
  },
  {
   "cell_type": "code",
   "execution_count": 22,
   "metadata": {
    "execution": {
     "iopub.execute_input": "2025-08-30T10:41:16.576425Z",
     "iopub.status.busy": "2025-08-30T10:41:16.576067Z",
     "iopub.status.idle": "2025-08-30T10:41:16.581278Z",
     "shell.execute_reply": "2025-08-30T10:41:16.580405Z",
     "shell.execute_reply.started": "2025-08-30T10:41:16.576397Z"
    },
    "trusted": true
   },
   "outputs": [],
   "source": [
    "evaluation_scores = {}"
   ]
  },
  {
   "cell_type": "code",
   "execution_count": 23,
   "metadata": {
    "execution": {
     "iopub.execute_input": "2025-08-30T10:41:16.730341Z",
     "iopub.status.busy": "2025-08-30T10:41:16.729956Z",
     "iopub.status.idle": "2025-08-30T10:41:17.117262Z",
     "shell.execute_reply": "2025-08-30T10:41:17.116476Z",
     "shell.execute_reply.started": "2025-08-30T10:41:16.730313Z"
    },
    "trusted": true
   },
   "outputs": [
    {
     "data": {
      "application/vnd.jupyter.widget-view+json": {
       "model_id": "5455551efd9842b58e82beb5fd68af2e",
       "version_major": 2,
       "version_minor": 0
      },
      "text/plain": [
       "Downloading builder script: 0.00B [00:00, ?B/s]"
      ]
     },
     "metadata": {},
     "output_type": "display_data"
    }
   ],
   "source": [
    "chrf = evaluate.load(\"chrf\")"
   ]
  },
  {
   "cell_type": "code",
   "execution_count": 24,
   "metadata": {
    "execution": {
     "iopub.execute_input": "2025-08-30T10:41:17.119351Z",
     "iopub.status.busy": "2025-08-30T10:41:17.118733Z",
     "iopub.status.idle": "2025-08-30T10:41:17.123876Z",
     "shell.execute_reply": "2025-08-30T10:41:17.122703Z",
     "shell.execute_reply.started": "2025-08-30T10:41:17.119327Z"
    },
    "trusted": true
   },
   "outputs": [],
   "source": [
    "def reshape_to_2D(refs):\n",
    "    return np.array(refs).reshape(-1,1)"
   ]
  },
  {
   "cell_type": "code",
   "execution_count": 25,
   "metadata": {
    "execution": {
     "iopub.execute_input": "2025-08-30T10:41:21.693618Z",
     "iopub.status.busy": "2025-08-30T10:41:21.693299Z",
     "iopub.status.idle": "2025-08-30T10:41:39.131456Z",
     "shell.execute_reply": "2025-08-30T10:41:39.130531Z",
     "shell.execute_reply.started": "2025-08-30T10:41:21.693595Z"
    },
    "trusted": true
   },
   "outputs": [],
   "source": [
    "for lang in avl_langs:\n",
    "    preds = translations[f\"eng_Latn-{lang}\"]\n",
    "    refs = ds[lang]\n",
    "    eval_score = chrf.compute(predictions = preds, references = reshape_to_2D(refs), word_order = 2)\n",
    "    evaluation_scores[lang] = []\n",
    "    evaluation_scores[lang] = eval_score['score']"
   ]
  },
  {
   "cell_type": "code",
   "execution_count": 26,
   "metadata": {
    "execution": {
     "iopub.execute_input": "2025-08-30T10:41:39.133215Z",
     "iopub.status.busy": "2025-08-30T10:41:39.132878Z",
     "iopub.status.idle": "2025-08-30T10:41:39.140014Z",
     "shell.execute_reply": "2025-08-30T10:41:39.139036Z",
     "shell.execute_reply.started": "2025-08-30T10:41:39.133166Z"
    },
    "trusted": true
   },
   "outputs": [
    {
     "data": {
      "text/plain": [
       "{'asm_Beng': 44.95942691046476,\n",
       " 'ben_Beng': 47.28212708193074,\n",
       " 'brx_Deva': 39.58070861461832,\n",
       " 'doi_Deva': 58.225645673027685,\n",
       " 'eng_Latn': 2.3775945713611253,\n",
       " 'gom_Deva': 42.327405936889164,\n",
       " 'guj_Gujr': 52.27170841790074,\n",
       " 'hin_Deva': 54.999156894285036,\n",
       " 'kan_Knda': 48.48043471062446,\n",
       " 'kas_Arab': 32.06844576306507,\n",
       " 'mai_Deva': 48.09914515235024,\n",
       " 'mal_Mlym': 46.77744121678397,\n",
       " 'mar_Deva': 49.59458161733089,\n",
       " 'mni_Mtei': 44.659737413441576,\n",
       " 'npi_Deva': 47.053012507106004,\n",
       " 'ory_Orya': 41.40366796015004,\n",
       " 'pan_Guru': 48.35199493009035,\n",
       " 'san_Deva': 36.459416637993904,\n",
       " 'sat_Olck': 40.59647294743415,\n",
       " 'snd_Deva': 39.56466548668205,\n",
       " 'tam_Taml': 49.849307954427836,\n",
       " 'tel_Telu': 51.71540907423323,\n",
       " 'urd_Arab': 66.35757738856296}"
      ]
     },
     "execution_count": 26,
     "metadata": {},
     "output_type": "execute_result"
    }
   ],
   "source": [
    "evaluation_scores"
   ]
  },
  {
   "cell_type": "markdown",
   "metadata": {},
   "source": [
    "## Visualizing the outputs"
   ]
  },
  {
   "cell_type": "code",
   "execution_count": 27,
   "metadata": {
    "execution": {
     "iopub.execute_input": "2025-08-30T10:41:39.141092Z",
     "iopub.status.busy": "2025-08-30T10:41:39.140872Z",
     "iopub.status.idle": "2025-08-30T10:41:39.161590Z",
     "shell.execute_reply": "2025-08-30T10:41:39.160728Z",
     "shell.execute_reply.started": "2025-08-30T10:41:39.141074Z"
    },
    "trusted": true
   },
   "outputs": [
    {
     "data": {
      "text/plain": [
       "array([[44.95942691],\n",
       "       [47.28212708],\n",
       "       [39.58070861],\n",
       "       [58.22564567],\n",
       "       [ 2.37759457],\n",
       "       [42.32740594],\n",
       "       [52.27170842],\n",
       "       [54.99915689],\n",
       "       [48.48043471],\n",
       "       [32.06844576],\n",
       "       [48.09914515],\n",
       "       [46.77744122],\n",
       "       [49.59458162],\n",
       "       [44.65973741],\n",
       "       [47.05301251],\n",
       "       [41.40366796],\n",
       "       [48.35199493],\n",
       "       [36.45941664],\n",
       "       [40.59647295],\n",
       "       [39.56466549],\n",
       "       [49.84930795],\n",
       "       [51.71540907],\n",
       "       [66.35757739]])"
      ]
     },
     "execution_count": 27,
     "metadata": {},
     "output_type": "execute_result"
    }
   ],
   "source": [
    "score = [val for val in evaluation_scores.values()]\n",
    "score = reshape_to_2D(score)\n",
    "score"
   ]
  },
  {
   "cell_type": "code",
   "execution_count": 28,
   "metadata": {
    "execution": {
     "iopub.execute_input": "2025-08-30T10:41:42.788991Z",
     "iopub.status.busy": "2025-08-30T10:41:42.788666Z",
     "iopub.status.idle": "2025-08-30T10:41:43.278521Z",
     "shell.execute_reply": "2025-08-30T10:41:43.277439Z",
     "shell.execute_reply.started": "2025-08-30T10:41:42.788966Z"
    },
    "trusted": true
   },
   "outputs": [
    {
     "data": {
      "image/png": "[encoded data removed]",
      "text/plain": [
       "<Figure size 640x480 with 2 Axes>"
      ]
     },
     "metadata": {},
     "output_type": "display_data"
    }
   ],
   "source": [
    "sns.heatmap(score,annot=True, fmt=\".1f\",xticklabels = [\"indicTrans2-ROPE-1B\"],yticklabels = evaluation_scores.keys(),cmap = 'YlGnBu')\n",
    "plt.title(\"English to Indian language Translation chrF++ scores\")\n",
    "plt.show()"
   ]
  },
  {
   "cell_type": "code",
   "execution_count": null,
   "metadata": {
    "trusted": true
   },
   "outputs": [],
   "source": []
  }
 ],
 "metadata": {
  "kaggle": {
   "accelerator": "none",
   "dataSources": [
    {
     "datasetId": 8170961,
     "sourceId": 12913462,
     "sourceType": "datasetVersion"
    }
   ],
   "dockerImageVersionId": 31089,
   "isGpuEnabled": false,
   "isInternetEnabled": true,
   "language": "python",
   "sourceType": "notebook"
  },
  "kernelspec": {
   "display_name": "Python 3",
   "language": "python",
   "name": "python3"
  },
  "language_info": {
   "codemirror_mode": {
    "name": "ipython",
    "version": 3
   },
   "file_extension": ".py",
   "mimetype": "text/x-python",
   "name": "python",
   "nbconvert_exporter": "python",
   "pygments_lexer": "ipython3",
   "version": "3.11.13"
  }
 },
 "nbformat": 4,
 "nbformat_minor": 4
}

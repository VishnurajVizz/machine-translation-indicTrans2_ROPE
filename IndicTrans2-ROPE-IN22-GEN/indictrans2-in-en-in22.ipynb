{
 "cells": [
  {
   "cell_type": "markdown",
   "metadata": {},
   "source": [
    "# This Notebook uses Rotary indicTrans2 1B model for Machine Translation from Indian to English Languages. Inferenced on IN22-Gen dataset"
   ]
  },
  {
   "cell_type": "code",
   "execution_count": 1,
   "metadata": {
    "execution": {
     "iopub.execute_input": "2025-08-30T10:45:49.318097Z",
     "iopub.status.busy": "2025-08-30T10:45:49.317756Z",
     "iopub.status.idle": "2025-08-30T10:45:49.911139Z",
     "shell.execute_reply": "2025-08-30T10:45:49.909900Z",
     "shell.execute_reply.started": "2025-08-30T10:45:49.318070Z"
    },
    "trusted": true
   },
   "outputs": [
    {
     "data": {
      "application/vnd.jupyter.widget-view+json": {
       "model_id": "179e8a97ca7e4f6d811107e233d23f3c",
       "version_major": 2,
       "version_minor": 0
      },
      "text/plain": [
       "VBox(children=(HTML(value='<center> <img\\nsrc=https://huggingface.co/front/assets/huggingface_logo-noborder.sv…"
      ]
     },
     "metadata": {},
     "output_type": "display_data"
    }
   ],
   "source": [
    "from huggingface_hub import notebook_login\n",
    "notebook_login()"
   ]
  },
  {
   "cell_type": "code",
   "execution_count": null,
   "metadata": {
    "trusted": true
   },
   "outputs": [],
   "source": [
    "!pip install IndicTransToolkit"
   ]
  },
  {
   "cell_type": "code",
   "execution_count": null,
   "metadata": {
    "trusted": true
   },
   "outputs": [],
   "source": [
    "!pip install evaluate sacrebleu"
   ]
  },
  {
   "cell_type": "code",
   "execution_count": 3,
   "metadata": {
    "execution": {
     "iopub.execute_input": "2025-08-29T08:34:11.790934Z",
     "iopub.status.busy": "2025-08-29T08:34:11.790644Z",
     "iopub.status.idle": "2025-08-29T08:34:12.015415Z",
     "shell.execute_reply": "2025-08-29T08:34:12.014482Z",
     "shell.execute_reply.started": "2025-08-29T08:34:11.790907Z"
    },
    "trusted": true
   },
   "outputs": [
    {
     "name": "stdout",
     "output_type": "stream",
     "text": [
      "Fri Aug 29 08:34:11 2025       \n",
      "+-----------------------------------------------------------------------------------------+\n",
      "| NVIDIA-SMI 560.35.03              Driver Version: 560.35.03      CUDA Version: 12.6     |\n",
      "|-----------------------------------------+------------------------+----------------------+\n",
      "| GPU  Name                 Persistence-M | Bus-Id          Disp.A | Volatile Uncorr. ECC |\n",
      "| Fan  Temp   Perf          Pwr:Usage/Cap |           Memory-Usage | GPU-Util  Compute M. |\n",
      "|                                         |                        |               MIG M. |\n",
      "|=========================================+========================+======================|\n",
      "|   0  Tesla T4                       Off |   00000000:00:04.0 Off |                    0 |\n",
      "| N/A   37C    P8              9W /   70W |       1MiB /  15360MiB |      0%      Default |\n",
      "|                                         |                        |                  N/A |\n",
      "+-----------------------------------------+------------------------+----------------------+\n",
      "|   1  Tesla T4                       Off |   00000000:00:05.0 Off |                    0 |\n",
      "| N/A   40C    P8             11W /   70W |       1MiB /  15360MiB |      0%      Default |\n",
      "|                                         |                        |                  N/A |\n",
      "+-----------------------------------------+------------------------+----------------------+\n",
      "                                                                                         \n",
      "+-----------------------------------------------------------------------------------------+\n",
      "| Processes:                                                                              |\n",
      "|  GPU   GI   CI        PID   Type   Process name                              GPU Memory |\n",
      "|        ID   ID                                                               Usage      |\n",
      "|=========================================================================================|\n",
      "|  No running processes found                                                             |\n",
      "+-----------------------------------------------------------------------------------------+\n"
     ]
    }
   ],
   "source": [
    "!nvidia-smi"
   ]
  },
  {
   "cell_type": "code",
   "execution_count": null,
   "metadata": {
    "execution": {
     "iopub.execute_input": "2025-08-30T10:46:09.213685Z",
     "iopub.status.busy": "2025-08-30T10:46:09.213289Z",
     "iopub.status.idle": "2025-08-30T10:46:49.254010Z",
     "shell.execute_reply": "2025-08-30T10:46:49.252839Z",
     "shell.execute_reply.started": "2025-08-30T10:46:09.213651Z"
    },
    "trusted": true
   },
   "outputs": [
    {
     "name": "stderr",
     "output_type": "stream",
     "text": [
      "2025-08-30 10:46:27.714878: E external/local_xla/xla/stream_executor/cuda/cuda_fft.cc:477] Unable to register cuFFT factory: Attempting to register factory for plugin cuFFT when one has already been registered\n",
      "WARNING: All log messages before absl::InitializeLog() is called are written to STDERR\n",
      "E0000 00:00:1756550788.040387      36 cuda_dnn.cc:8310] Unable to register cuDNN factory: Attempting to register factory for plugin cuDNN when one has already been registered\n",
      "E0000 00:00:1756550788.140058      36 cuda_blas.cc:1418] Unable to register cuBLAS factory: Attempting to register factory for plugin cuBLAS when one has already been registered\n"
     ]
    }
   ],
   "source": [
    "import torch\n",
    "import warnings\n",
    "import json\n",
    "from IndicTransToolkit.processor import IndicProcessor\n",
    "from transformers import AutoTokenizer, AutoModelForSeq2SeqLM\n",
    "from datasets import load_dataset\n",
    "import seaborn as sns\n",
    "import matplotlib.pyplot as plt\n",
    "import numpy as np\n",
    "import evaluate"
   ]
  },
  {
   "cell_type": "code",
   "execution_count": 35,
   "metadata": {
    "execution": {
     "iopub.execute_input": "2025-08-30T10:53:31.000377Z",
     "iopub.status.busy": "2025-08-30T10:53:31.000041Z",
     "iopub.status.idle": "2025-08-30T10:53:31.006787Z",
     "shell.execute_reply": "2025-08-30T10:53:31.005583Z",
     "shell.execute_reply.started": "2025-08-30T10:53:31.000352Z"
    },
    "trusted": true
   },
   "outputs": [],
   "source": [
    "# data for kas_Deva, mni_Beng,snd_Arab  not in IN22-Gen\n",
    "# has an issue with inference for ben_Beng, doi_Deva, snd_Deva\n",
    "# In_langs = ['asm_Beng','ben_Beng','brx_Deva','doi_Deva','eng_Latn','gom_Deva','guj_Gujr','hin_Deva','kan_Knda','kas_Arab','kas_Deva','mai_Deva','mal_Mlym','mar_Deva','mni_Beng','mni_Mtei','npi_Deva','ory_Orya','pan_Guru','san_Deva','sat_Olck','snd_Arab','snd_Deva','tam_Taml','tel_Telu','urd_Arab']\n",
    "In_langs = ['asm_Beng','brx_Deva','eng_Latn','gom_Deva','guj_Gujr','hin_Deva','kan_Knda','kas_Arab','mai_Deva','mal_Mlym','mar_Deva','mni_Mtei','npi_Deva','ory_Orya','pan_Guru','sat_Olck','snd_Arab','tam_Taml','tel_Telu','urd_Arab']\n"
   ]
  },
  {
   "cell_type": "code",
   "execution_count": 5,
   "metadata": {
    "execution": {
     "iopub.execute_input": "2025-08-30T10:47:26.437487Z",
     "iopub.status.busy": "2025-08-30T10:47:26.437130Z",
     "iopub.status.idle": "2025-08-30T10:47:29.113668Z",
     "shell.execute_reply": "2025-08-30T10:47:29.112749Z",
     "shell.execute_reply.started": "2025-08-30T10:47:26.437433Z"
    },
    "trusted": true
   },
   "outputs": [
    {
     "data": {
      "application/vnd.jupyter.widget-view+json": {
       "model_id": "faf5bd036c58470b824d542721e803e9",
       "version_major": 2,
       "version_minor": 0
      },
      "text/plain": [
       "README.md:   0%|          | 0.00/7.71k [00:00<?, ?B/s]"
      ]
     },
     "metadata": {},
     "output_type": "display_data"
    },
    {
     "data": {
      "application/vnd.jupyter.widget-view+json": {
       "model_id": "eb0f005da5784ba38bd5c87f596ebb02",
       "version_major": 2,
       "version_minor": 0
      },
      "text/plain": [
       "data/train-00000-of-00001.parquet:   0%|          | 0.00/4.34M [00:00<?, ?B/s]"
      ]
     },
     "metadata": {},
     "output_type": "display_data"
    },
    {
     "data": {
      "application/vnd.jupyter.widget-view+json": {
       "model_id": "d1a86a8a43bd43ad8116dc1191cb3ac2",
       "version_major": 2,
       "version_minor": 0
      },
      "text/plain": [
       "Generating test split:   0%|          | 0/1024 [00:00<?, ? examples/s]"
      ]
     },
     "metadata": {},
     "output_type": "display_data"
    }
   ],
   "source": [
    "ds  = load_dataset(\"ai4bharat/IN22-Gen\")"
   ]
  },
  {
   "cell_type": "code",
   "execution_count": 6,
   "metadata": {
    "execution": {
     "iopub.execute_input": "2025-08-30T10:47:30.309551Z",
     "iopub.status.busy": "2025-08-30T10:47:30.309181Z",
     "iopub.status.idle": "2025-08-30T10:47:30.314725Z",
     "shell.execute_reply": "2025-08-30T10:47:30.313499Z",
     "shell.execute_reply.started": "2025-08-30T10:47:30.309523Z"
    },
    "trusted": true
   },
   "outputs": [],
   "source": [
    "ds = ds['test']"
   ]
  },
  {
   "cell_type": "code",
   "execution_count": 7,
   "metadata": {
    "execution": {
     "iopub.execute_input": "2025-08-30T10:47:31.485734Z",
     "iopub.status.busy": "2025-08-30T10:47:31.485232Z",
     "iopub.status.idle": "2025-08-30T10:47:31.492756Z",
     "shell.execute_reply": "2025-08-30T10:47:31.491622Z",
     "shell.execute_reply.started": "2025-08-30T10:47:31.485710Z"
    },
    "trusted": true
   },
   "outputs": [
    {
     "data": {
      "text/plain": [
       "Dataset({\n",
       "    features: ['context', 'source', 'url', 'domain', 'num_words', 'bucket', 'asm_Beng', 'ben_Beng', 'brx_Deva', 'doi_Deva', 'eng_Latn', 'gom_Deva', 'guj_Gujr', 'hin_Deva', 'kan_Knda', 'kas_Arab', 'mai_Deva', 'mal_Mlym', 'mar_Deva', 'mni_Mtei', 'npi_Deva', 'ory_Orya', 'pan_Guru', 'san_Deva', 'sat_Olck', 'snd_Deva', 'tam_Taml', 'tel_Telu', 'urd_Arab'],\n",
       "    num_rows: 1024\n",
       "})"
      ]
     },
     "execution_count": 7,
     "metadata": {},
     "output_type": "execute_result"
    }
   ],
   "source": [
    "ds"
   ]
  },
  {
   "cell_type": "code",
   "execution_count": 8,
   "metadata": {
    "execution": {
     "iopub.execute_input": "2025-08-30T10:47:35.051000Z",
     "iopub.status.busy": "2025-08-30T10:47:35.050663Z",
     "iopub.status.idle": "2025-08-30T10:47:35.062090Z",
     "shell.execute_reply": "2025-08-30T10:47:35.060868Z",
     "shell.execute_reply.started": "2025-08-30T10:47:35.050974Z"
    },
    "trusted": true
   },
   "outputs": [
    {
     "data": {
      "text/plain": [
       "['An appearance is a bunch of attributes related to the service person, like their shoes, clothes, tie, jewellery, hairstyle, make-up, watch, cosmetics, perfume, etc.',\n",
       " 'Ajanta, located in the Aurangabad District of Maharashtra has twenty-nine caitya and vihara caves decorated with sculptures and paintings from the first century B.C.E. to the fifth century C.E.',\n",
       " 'Body colour gets merged with the outer line, creating the effect of volume.',\n",
       " 'Ashoka started making extensive use of stone for sculptures and great monuments, whereas the previous tradition consisted of working with wood and clay.',\n",
       " 'Potatoes mixed in masalas, coated in besan batter and deep fried to perfection form this delicious and famous dish of Maharashtra.']"
      ]
     },
     "execution_count": 8,
     "metadata": {},
     "output_type": "execute_result"
    }
   ],
   "source": [
    "ds['eng_Latn'][:5]"
   ]
  },
  {
   "cell_type": "code",
   "execution_count": 10,
   "metadata": {
    "execution": {
     "iopub.execute_input": "2025-08-29T08:34:38.517263Z",
     "iopub.status.busy": "2025-08-29T08:34:38.516987Z",
     "iopub.status.idle": "2025-08-29T08:34:38.605541Z",
     "shell.execute_reply": "2025-08-29T08:34:38.604498Z",
     "shell.execute_reply.started": "2025-08-29T08:34:38.517243Z"
    },
    "trusted": true
   },
   "outputs": [],
   "source": [
    "warnings.filterwarnings(\"ignore\")\n",
    "model_name = \"prajdabre/rotary-indictrans2-indic-en-1B\"\n",
    "device = \"cuda\" if torch.cuda.is_available() else \"cpu\""
   ]
  },
  {
   "cell_type": "code",
   "execution_count": 11,
   "metadata": {
    "execution": {
     "iopub.execute_input": "2025-08-29T08:34:38.606770Z",
     "iopub.status.busy": "2025-08-29T08:34:38.606477Z",
     "iopub.status.idle": "2025-08-29T08:34:41.179378Z",
     "shell.execute_reply": "2025-08-29T08:34:41.178574Z",
     "shell.execute_reply.started": "2025-08-29T08:34:38.606751Z"
    },
    "trusted": true
   },
   "outputs": [
    {
     "data": {
      "application/vnd.jupyter.widget-view+json": {
       "model_id": "eac93d57529a47b687a14bf5d076bf17",
       "version_major": 2,
       "version_minor": 0
      },
      "text/plain": [
       "tokenizer_config.json: 0.00B [00:00, ?B/s]"
      ]
     },
     "metadata": {},
     "output_type": "display_data"
    },
    {
     "data": {
      "application/vnd.jupyter.widget-view+json": {
       "model_id": "36dce02003d0490a83cf4c7914a9ce52",
       "version_major": 2,
       "version_minor": 0
      },
      "text/plain": [
       "tokenization_indictrans.py: 0.00B [00:00, ?B/s]"
      ]
     },
     "metadata": {},
     "output_type": "display_data"
    },
    {
     "name": "stderr",
     "output_type": "stream",
     "text": [
      "A new version of the following files was downloaded from https://huggingface.co/prajdabre/rotary-indictrans2-indic-en-1B:\n",
      "- tokenization_indictrans.py\n",
      ". Make sure to double-check they do not contain any added malicious code. To avoid downloading new versions of the code file, you can pin a revision.\n"
     ]
    },
    {
     "data": {
      "application/vnd.jupyter.widget-view+json": {
       "model_id": "1a18c5e2747d4f2f923334dea85e7b3b",
       "version_major": 2,
       "version_minor": 0
      },
      "text/plain": [
       "dict.SRC.json: 0.00B [00:00, ?B/s]"
      ]
     },
     "metadata": {},
     "output_type": "display_data"
    },
    {
     "data": {
      "application/vnd.jupyter.widget-view+json": {
       "model_id": "e155dfce5d1b438f9ed4718ca405cefe",
       "version_major": 2,
       "version_minor": 0
      },
      "text/plain": [
       "dict.TGT.json: 0.00B [00:00, ?B/s]"
      ]
     },
     "metadata": {},
     "output_type": "display_data"
    },
    {
     "data": {
      "application/vnd.jupyter.widget-view+json": {
       "model_id": "8fc4ef0248bd4aeb8fa54a2fd7294e72",
       "version_major": 2,
       "version_minor": 0
      },
      "text/plain": [
       "model.SRC:   0%|          | 0.00/3.26M [00:00<?, ?B/s]"
      ]
     },
     "metadata": {},
     "output_type": "display_data"
    },
    {
     "data": {
      "application/vnd.jupyter.widget-view+json": {
       "model_id": "10edeb1c5de34e3697804bb25c794476",
       "version_major": 2,
       "version_minor": 0
      },
      "text/plain": [
       "model.TGT:   0%|          | 0.00/759k [00:00<?, ?B/s]"
      ]
     },
     "metadata": {},
     "output_type": "display_data"
    },
    {
     "data": {
      "application/vnd.jupyter.widget-view+json": {
       "model_id": "b95ab9fef3eb4391a41a29e74ffea4f6",
       "version_major": 2,
       "version_minor": 0
      },
      "text/plain": [
       "special_tokens_map.json:   0%|          | 0.00/96.0 [00:00<?, ?B/s]"
      ]
     },
     "metadata": {},
     "output_type": "display_data"
    }
   ],
   "source": [
    "ip = IndicProcessor(inference=True)\n",
    "tokenizer = AutoTokenizer.from_pretrained(model_name, trust_remote_code=True)"
   ]
  },
  {
   "cell_type": "code",
   "execution_count": 12,
   "metadata": {
    "execution": {
     "iopub.execute_input": "2025-08-29T08:34:41.180498Z",
     "iopub.status.busy": "2025-08-29T08:34:41.180209Z",
     "iopub.status.idle": "2025-08-29T08:35:23.862591Z",
     "shell.execute_reply": "2025-08-29T08:35:23.861296Z",
     "shell.execute_reply.started": "2025-08-29T08:34:41.180472Z"
    },
    "trusted": true
   },
   "outputs": [
    {
     "data": {
      "application/vnd.jupyter.widget-view+json": {
       "model_id": "1a132ba8617e4c59ab2d48a01191acfa",
       "version_major": 2,
       "version_minor": 0
      },
      "text/plain": [
       "config.json: 0.00B [00:00, ?B/s]"
      ]
     },
     "metadata": {},
     "output_type": "display_data"
    },
    {
     "data": {
      "application/vnd.jupyter.widget-view+json": {
       "model_id": "ae1d4e1eaf16477687b2b9ddb723849b",
       "version_major": 2,
       "version_minor": 0
      },
      "text/plain": [
       "configuration_rotary_indictrans.py: 0.00B [00:00, ?B/s]"
      ]
     },
     "metadata": {},
     "output_type": "display_data"
    },
    {
     "name": "stderr",
     "output_type": "stream",
     "text": [
      "A new version of the following files was downloaded from https://huggingface.co/prajdabre/rotary-indictrans2-indic-en-1B:\n",
      "- configuration_rotary_indictrans.py\n",
      ". Make sure to double-check they do not contain any added malicious code. To avoid downloading new versions of the code file, you can pin a revision.\n"
     ]
    },
    {
     "data": {
      "application/vnd.jupyter.widget-view+json": {
       "model_id": "1cfd720e927749f18b8bc11f24901ca9",
       "version_major": 2,
       "version_minor": 0
      },
      "text/plain": [
       "modeling_rotary_indictrans.py: 0.00B [00:00, ?B/s]"
      ]
     },
     "metadata": {},
     "output_type": "display_data"
    },
    {
     "name": "stderr",
     "output_type": "stream",
     "text": [
      "A new version of the following files was downloaded from https://huggingface.co/prajdabre/rotary-indictrans2-indic-en-1B:\n",
      "- modeling_rotary_indictrans.py\n",
      ". Make sure to double-check they do not contain any added malicious code. To avoid downloading new versions of the code file, you can pin a revision.\n"
     ]
    },
    {
     "data": {
      "application/vnd.jupyter.widget-view+json": {
       "model_id": "2f654063ea9b42d9b569d5933d6f9d00",
       "version_major": 2,
       "version_minor": 0
      },
      "text/plain": [
       "pytorch_model.bin:   0%|          | 0.00/4.09G [00:00<?, ?B/s]"
      ]
     },
     "metadata": {},
     "output_type": "display_data"
    },
    {
     "data": {
      "application/vnd.jupyter.widget-view+json": {
       "model_id": "e51bd72fcd0c42fda4c022daad7e26d1",
       "version_major": 2,
       "version_minor": 0
      },
      "text/plain": [
       "model.safetensors:   0%|          | 0.00/4.09G [00:00<?, ?B/s]"
      ]
     },
     "metadata": {},
     "output_type": "display_data"
    },
    {
     "data": {
      "application/vnd.jupyter.widget-view+json": {
       "model_id": "20f49fc60db44de3aea96a0da4787656",
       "version_major": 2,
       "version_minor": 0
      },
      "text/plain": [
       "generation_config.json:   0%|          | 0.00/163 [00:00<?, ?B/s]"
      ]
     },
     "metadata": {},
     "output_type": "display_data"
    }
   ],
   "source": [
    "model = AutoModelForSeq2SeqLM.from_pretrained(\n",
    "    model_name,\n",
    "    torch_dtype=torch.float16,\n",
    "    trust_remote_code=True,\n",
    ").to(device)"
   ]
  },
  {
   "cell_type": "code",
   "execution_count": 16,
   "metadata": {
    "execution": {
     "iopub.execute_input": "2025-08-29T08:35:53.227426Z",
     "iopub.status.busy": "2025-08-29T08:35:53.226887Z",
     "iopub.status.idle": "2025-08-29T08:35:53.230516Z",
     "shell.execute_reply": "2025-08-29T08:35:53.229942Z",
     "shell.execute_reply.started": "2025-08-29T08:35:53.227405Z"
    },
    "trusted": true
   },
   "outputs": [],
   "source": [
    "translations = {}"
   ]
  },
  {
   "cell_type": "code",
   "execution_count": 17,
   "metadata": {
    "execution": {
     "iopub.execute_input": "2025-08-29T08:35:53.436222Z",
     "iopub.status.busy": "2025-08-29T08:35:53.435714Z",
     "iopub.status.idle": "2025-08-29T08:36:02.051946Z",
     "shell.execute_reply": "2025-08-29T08:36:02.051018Z",
     "shell.execute_reply.started": "2025-08-29T08:35:53.436202Z"
    },
    "trusted": true
   },
   "outputs": [],
   "source": [
    "batch_size = 10"
   ]
  },
  {
   "cell_type": "code",
   "execution_count": 18,
   "metadata": {
    "execution": {
     "iopub.execute_input": "2025-08-29T08:36:02.053402Z",
     "iopub.status.busy": "2025-08-29T08:36:02.053113Z",
     "iopub.status.idle": "2025-08-29T08:36:02.062933Z",
     "shell.execute_reply": "2025-08-29T08:36:02.062260Z",
     "shell.execute_reply.started": "2025-08-29T08:36:02.053367Z"
    },
    "trusted": true
   },
   "outputs": [],
   "source": [
    "def translate(sentences,src_lang, tgt_lang):\n",
    "    translations[f\"{src_lang}-{tgt_lang}\"] = []\n",
    "    with torch.inference_mode():\n",
    "        for i in range(0, len(sentences),batch_size):\n",
    "            batch = ip.preprocess_batch(sentences[i:i+batch_size], src_lang, tgt_lang)\n",
    "            batch = tokenizer(batch, padding=\"longest\", truncation=True, max_length=2048, return_tensors=\"pt\").to(device)\n",
    "            outputs = model.generate(\n",
    "                **batch,\n",
    "                num_beams=5,\n",
    "                length_penalty=1.5,\n",
    "                repetition_penalty=2.0,\n",
    "                num_return_sequences=1,\n",
    "                max_new_tokens=2048,\n",
    "                early_stopping=True\n",
    "            )\n",
    "\n",
    "            outputs = tokenizer.batch_decode(\n",
    "                outputs, skip_special_tokens=True, clean_up_tokenization_spaces=True\n",
    "            )\n",
    "            outputs = ip.postprocess_batch(outputs, lang = tgt_lang)\n",
    "            print(f\"Translations from {src_lang} to {tgt_lang}: Btach - {i//batch_size}\")\n",
    "            translations[f\"{src_lang}-{tgt_lang}\"] += outputs\n",
    "            del batch, outputs\n",
    "            torch.cuda.empty_cache()"
   ]
  },
  {
   "cell_type": "markdown",
   "metadata": {},
   "source": [
    "## Inferencing and Saving the output to a json file"
   ]
  },
  {
   "cell_type": "code",
   "execution_count": null,
   "metadata": {
    "trusted": true
   },
   "outputs": [],
   "source": [
    "tgt_lang = 'eng_Latn'\n",
    "for lang in In_langs:\n",
    "    translate(sentences = ds[lang],src_lang = lang, tgt_lang = tgt_lang)\n",
    "    try:\n",
    "        with open(\"translations_in-en.json\", \"w\", encoding=\"utf-8\") as f:\n",
    "            json.dump(translations, f, indent=4, ensure_ascii=False)\n",
    "        print(f\"File saved as of {lang}\")\n",
    "    except IOError as e:\n",
    "        print(f\"Error saving file: {e}\")\n",
    "            "
   ]
  },
  {
   "cell_type": "code",
   "execution_count": 20,
   "metadata": {
    "execution": {
     "iopub.execute_input": "2025-08-29T08:53:39.189273Z",
     "iopub.status.busy": "2025-08-29T08:53:39.188412Z",
     "iopub.status.idle": "2025-08-29T08:53:39.193949Z",
     "shell.execute_reply": "2025-08-29T08:53:39.193359Z",
     "shell.execute_reply.started": "2025-08-29T08:53:39.189249Z"
    },
    "trusted": true
   },
   "outputs": [
    {
     "data": {
      "text/plain": [
       "dict_keys(['tam_Taml-eng_Latn', 'tel_Telu-eng_Latn', 'urd_Arab-eng_Latn'])"
      ]
     },
     "execution_count": 20,
     "metadata": {},
     "output_type": "execute_result"
    }
   ],
   "source": [
    "translations.keys()"
   ]
  },
  {
   "cell_type": "code",
   "execution_count": null,
   "metadata": {
    "trusted": true
   },
   "outputs": [],
   "source": [
    "translations"
   ]
  },
  {
   "cell_type": "markdown",
   "metadata": {},
   "source": [
    "## Loading the saved translations"
   ]
  },
  {
   "cell_type": "code",
   "execution_count": 9,
   "metadata": {
    "execution": {
     "iopub.execute_input": "2025-08-30T10:48:19.388977Z",
     "iopub.status.busy": "2025-08-30T10:48:19.388613Z",
     "iopub.status.idle": "2025-08-30T10:48:19.540417Z",
     "shell.execute_reply": "2025-08-30T10:48:19.539186Z",
     "shell.execute_reply.started": "2025-08-30T10:48:19.388953Z"
    },
    "trusted": true
   },
   "outputs": [],
   "source": [
    "with open('/kaggle/input/f-translations-in-en-in22/translations_in-en.json','r',encoding='utf-8') as f:\n",
    "    translations = json.load(f)"
   ]
  },
  {
   "cell_type": "code",
   "execution_count": 13,
   "metadata": {
    "execution": {
     "iopub.execute_input": "2025-08-30T10:48:48.116768Z",
     "iopub.status.busy": "2025-08-30T10:48:48.116373Z",
     "iopub.status.idle": "2025-08-30T10:48:48.129498Z",
     "shell.execute_reply": "2025-08-30T10:48:48.128581Z",
     "shell.execute_reply.started": "2025-08-30T10:48:48.116742Z"
    },
    "trusted": true
   },
   "outputs": [
    {
     "name": "stdout",
     "output_type": "stream",
     "text": [
      "Appearance refers to a set of attributes of a service employee such as footwear, dress, tie, jewellery, hairstyle, make-up, wrist watch, cosmetics, perfume etc.\n"
     ]
    },
    {
     "data": {
      "text/plain": [
       "'An appearance is a bunch of attributes related to the service person, like their shoes, clothes, tie, jewellery, hairstyle, make-up, watch, cosmetics, perfume, etc.'"
      ]
     },
     "execution_count": 13,
     "metadata": {},
     "output_type": "execute_result"
    }
   ],
   "source": [
    "print(translations['tam_Taml-eng_Latn'][0])\n",
    "ds['eng_Latn'][0]"
   ]
  },
  {
   "cell_type": "markdown",
   "metadata": {},
   "source": [
    "## Evaluating the Translations"
   ]
  },
  {
   "cell_type": "code",
   "execution_count": 36,
   "metadata": {
    "execution": {
     "iopub.execute_input": "2025-08-30T10:53:39.037090Z",
     "iopub.status.busy": "2025-08-30T10:53:39.035603Z",
     "iopub.status.idle": "2025-08-30T10:53:39.042030Z",
     "shell.execute_reply": "2025-08-30T10:53:39.040852Z",
     "shell.execute_reply.started": "2025-08-30T10:53:39.037046Z"
    },
    "trusted": true
   },
   "outputs": [],
   "source": [
    "avl_langs = ['asm_Beng','brx_Deva','eng_Latn','gom_Deva','guj_Gujr','hin_Deva','kan_Knda','kas_Arab','mai_Deva','mal_Mlym','mar_Deva','mni_Mtei','npi_Deva','ory_Orya','pan_Guru','san_Deva','sat_Olck','tam_Taml','tel_Telu','urd_Arab']\n"
   ]
  },
  {
   "cell_type": "code",
   "execution_count": 37,
   "metadata": {
    "execution": {
     "iopub.execute_input": "2025-08-30T10:53:39.546311Z",
     "iopub.status.busy": "2025-08-30T10:53:39.545942Z",
     "iopub.status.idle": "2025-08-30T10:53:39.551398Z",
     "shell.execute_reply": "2025-08-30T10:53:39.550118Z",
     "shell.execute_reply.started": "2025-08-30T10:53:39.546277Z"
    },
    "trusted": true
   },
   "outputs": [],
   "source": [
    "evaluation_scores = {}"
   ]
  },
  {
   "cell_type": "code",
   "execution_count": 38,
   "metadata": {
    "execution": {
     "iopub.execute_input": "2025-08-30T10:53:39.730267Z",
     "iopub.status.busy": "2025-08-30T10:53:39.729947Z",
     "iopub.status.idle": "2025-08-30T10:53:40.189743Z",
     "shell.execute_reply": "2025-08-30T10:53:40.188532Z",
     "shell.execute_reply.started": "2025-08-30T10:53:39.730244Z"
    },
    "trusted": true
   },
   "outputs": [],
   "source": [
    "chrf = evaluate.load(\"chrf\")"
   ]
  },
  {
   "cell_type": "code",
   "execution_count": 39,
   "metadata": {
    "execution": {
     "iopub.execute_input": "2025-08-30T10:53:40.191672Z",
     "iopub.status.busy": "2025-08-30T10:53:40.191321Z",
     "iopub.status.idle": "2025-08-30T10:53:40.197670Z",
     "shell.execute_reply": "2025-08-30T10:53:40.196485Z",
     "shell.execute_reply.started": "2025-08-30T10:53:40.191636Z"
    },
    "trusted": true
   },
   "outputs": [],
   "source": [
    "def reshape_to_2D(refs):\n",
    "    return np.array(refs).reshape(-1,1)"
   ]
  },
  {
   "cell_type": "code",
   "execution_count": 40,
   "metadata": {
    "execution": {
     "iopub.execute_input": "2025-08-30T10:53:40.348161Z",
     "iopub.status.busy": "2025-08-30T10:53:40.347818Z",
     "iopub.status.idle": "2025-08-30T10:53:54.886954Z",
     "shell.execute_reply": "2025-08-30T10:53:54.885540Z",
     "shell.execute_reply.started": "2025-08-30T10:53:40.348137Z"
    },
    "trusted": true
   },
   "outputs": [],
   "source": [
    "for lang in avl_langs:\n",
    "    preds = translations[f\"{lang}-eng_Latn\"]\n",
    "    refs = ds['eng_Latn']\n",
    "    eval_score = chrf.compute(predictions = preds, references = reshape_to_2D(refs), word_order = 2)\n",
    "    evaluation_scores[lang] = []\n",
    "    evaluation_scores[lang] = eval_score['score']"
   ]
  },
  {
   "cell_type": "code",
   "execution_count": 41,
   "metadata": {
    "execution": {
     "iopub.execute_input": "2025-08-30T10:53:54.888757Z",
     "iopub.status.busy": "2025-08-30T10:53:54.888399Z",
     "iopub.status.idle": "2025-08-30T10:53:54.896148Z",
     "shell.execute_reply": "2025-08-30T10:53:54.894950Z",
     "shell.execute_reply.started": "2025-08-30T10:53:54.888734Z"
    },
    "trusted": true
   },
   "outputs": [
    {
     "data": {
      "text/plain": [
       "{'asm_Beng': 64.36475088094858,\n",
       " 'brx_Deva': 60.623884602331856,\n",
       " 'eng_Latn': 97.98424707882405,\n",
       " 'gom_Deva': 58.08067339835209,\n",
       " 'guj_Gujr': 65.77016605735831,\n",
       " 'hin_Deva': 63.81012255794791,\n",
       " 'kan_Knda': 64.02284607391238,\n",
       " 'kas_Arab': 61.26641838317576,\n",
       " 'mai_Deva': 65.41291085881899,\n",
       " 'mal_Mlym': 63.22277473710517,\n",
       " 'mar_Deva': 64.0226878469359,\n",
       " 'mni_Mtei': 60.34601981710297,\n",
       " 'npi_Deva': 68.93528814505122,\n",
       " 'ory_Orya': 65.44020408614597,\n",
       " 'pan_Guru': 57.94251620854806,\n",
       " 'san_Deva': 54.18542921249077,\n",
       " 'sat_Olck': 52.26545194167138,\n",
       " 'tam_Taml': 58.94554205118322,\n",
       " 'tel_Telu': 64.17721437960182,\n",
       " 'urd_Arab': 72.44785698019449}"
      ]
     },
     "execution_count": 41,
     "metadata": {},
     "output_type": "execute_result"
    }
   ],
   "source": [
    "evaluation_scores"
   ]
  },
  {
   "cell_type": "markdown",
   "metadata": {},
   "source": [
    "## Visualizing the outputs"
   ]
  },
  {
   "cell_type": "code",
   "execution_count": 42,
   "metadata": {
    "execution": {
     "iopub.execute_input": "2025-08-30T10:53:54.898239Z",
     "iopub.status.busy": "2025-08-30T10:53:54.897795Z",
     "iopub.status.idle": "2025-08-30T10:53:54.928202Z",
     "shell.execute_reply": "2025-08-30T10:53:54.927092Z",
     "shell.execute_reply.started": "2025-08-30T10:53:54.898212Z"
    },
    "trusted": true
   },
   "outputs": [
    {
     "data": {
      "text/plain": [
       "array([[64.36475088],\n",
       "       [60.6238846 ],\n",
       "       [97.98424708],\n",
       "       [58.0806734 ],\n",
       "       [65.77016606],\n",
       "       [63.81012256],\n",
       "       [64.02284607],\n",
       "       [61.26641838],\n",
       "       [65.41291086],\n",
       "       [63.22277474],\n",
       "       [64.02268785],\n",
       "       [60.34601982],\n",
       "       [68.93528815],\n",
       "       [65.44020409],\n",
       "       [57.94251621],\n",
       "       [54.18542921],\n",
       "       [52.26545194],\n",
       "       [58.94554205],\n",
       "       [64.17721438],\n",
       "       [72.44785698]])"
      ]
     },
     "execution_count": 42,
     "metadata": {},
     "output_type": "execute_result"
    }
   ],
   "source": [
    "score = [val for val in evaluation_scores.values()]\n",
    "score = reshape_to_2D(score)\n",
    "score"
   ]
  },
  {
   "cell_type": "code",
   "execution_count": 43,
   "metadata": {
    "execution": {
     "iopub.execute_input": "2025-08-30T10:53:54.930626Z",
     "iopub.status.busy": "2025-08-30T10:53:54.930324Z",
     "iopub.status.idle": "2025-08-30T10:53:55.440748Z",
     "shell.execute_reply": "2025-08-30T10:53:55.439766Z",
     "shell.execute_reply.started": "2025-08-30T10:53:54.930604Z"
    },
    "trusted": true
   },
   "outputs": [
    {
     "data": {
      "image/png": "[encoded data removed]",
      "text/plain": [
       "<Figure size 640x480 with 2 Axes>"
      ]
     },
     "metadata": {},
     "output_type": "display_data"
    }
   ],
   "source": [
    "sns.heatmap(score,annot=True, fmt=\".1f\",xticklabels = [\"indicTrans2-ROPE-1B\"],yticklabels = evaluation_scores.keys(),cmap = 'YlGnBu')\n",
    "plt.title(\"Indian to English language Translation chrF++ scores\")\n",
    "plt.show()"
   ]
  },
  {
   "cell_type": "code",
   "execution_count": null,
   "metadata": {
    "trusted": true
   },
   "outputs": [],
   "source": []
  }
 ],
 "metadata": {
  "kaggle": {
   "accelerator": "none",
   "dataSources": [
    {
     "datasetId": 8171015,
     "sourceId": 12913537,
     "sourceType": "datasetVersion"
    }
   ],
   "dockerImageVersionId": 31090,
   "isGpuEnabled": false,
   "isInternetEnabled": true,
   "language": "python",
   "sourceType": "notebook"
  },
  "kernelspec": {
   "display_name": "Python 3",
   "language": "python",
   "name": "python3"
  },
  "language_info": {
   "codemirror_mode": {
    "name": "ipython",
    "version": 3
   },
   "file_extension": ".py",
   "mimetype": "text/x-python",
   "name": "python",
   "nbconvert_exporter": "python",
   "pygments_lexer": "ipython3",
   "version": "3.11.13"
  }
 },
 "nbformat": 4,
 "nbformat_minor": 4
}
